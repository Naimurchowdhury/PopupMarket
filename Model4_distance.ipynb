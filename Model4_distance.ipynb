{
 "cells": [
  {
   "cell_type": "code",
   "execution_count": 2,
   "id": "8e7faf31-8791-4bb2-98f6-8930174237aa",
   "metadata": {},
   "outputs": [],
   "source": [
    "import pandas as pd \n",
    "import numpy as np \n",
    "import matplotlib.pyplot as plt \n",
    "import gurobipy as gp \n",
    "from gurobipy import Model, GRB, quicksum"
   ]
  },
  {
   "cell_type": "code",
   "execution_count": 3,
   "id": "1303283a-4c3b-4945-b8a7-bbfbedf9a17d",
   "metadata": {},
   "outputs": [
    {
     "name": "stdout",
     "output_type": "stream",
     "text": [
      "Requirement already satisfied: geopy in /usr/local/lib/python3.11/site-packages (2.4.1)\n",
      "Requirement already satisfied: geographiclib<3,>=1.52 in /usr/local/lib/python3.11/site-packages (from geopy) (2.0)\n",
      "\n",
      "\u001b[1m[\u001b[0m\u001b[34;49mnotice\u001b[0m\u001b[1;39;49m]\u001b[0m\u001b[39;49m A new release of pip is available: \u001b[0m\u001b[31;49m23.3.1\u001b[0m\u001b[39;49m -> \u001b[0m\u001b[32;49m24.0\u001b[0m\n",
      "\u001b[1m[\u001b[0m\u001b[34;49mnotice\u001b[0m\u001b[1;39;49m]\u001b[0m\u001b[39;49m To update, run: \u001b[0m\u001b[32;49mpython3.11 -m pip install --upgrade pip\u001b[0m\n",
      "Note: you may need to restart the kernel to use updated packages.\n"
     ]
    }
   ],
   "source": [
    "pip install geopy"
   ]
  },
  {
   "cell_type": "code",
   "execution_count": 4,
   "id": "d7961062-0ca6-43f7-9cc9-0008a899ed37",
   "metadata": {},
   "outputs": [],
   "source": [
    "from geopy.geocoders import Nominatim\n",
    "from geopy.distance import geodesic"
   ]
  },
  {
   "cell_type": "code",
   "execution_count": 5,
   "id": "54f952d9-e8ac-4c82-b1d8-f2d76ddc0ad7",
   "metadata": {},
   "outputs": [],
   "source": [
    "df = pd.read_excel(\"/Users/niloysmac/Dropbox/FA Project/FBCEBC/RegressionData/modeldata.xlsx\")\n",
    "\n",
    "def haversine_distance(coord1, coord2):\n",
    "    return geodesic(coord1, coord2).miles\n",
    "\n",
    "# Create an empty distance matrix DataFrame\n",
    "num_coordinates = len(df)\n",
    "distance_matrix = pd.DataFrame(index=range(num_coordinates), columns=range(num_coordinates))\n",
    "\n",
    "# Populate the distance matrix\n",
    "for i in range(num_coordinates):\n",
    "    for j in range(num_coordinates):\n",
    "        coord1 = (df['Latitude.1'][i], df['Longitude.1'][i])\n",
    "        coord2 = (df['Latitude.1'][j], df['Longitude.1'][j])\n",
    "        distance_matrix.at[i, j] = haversine_distance(coord1, coord2)\n",
    "\n"
   ]
  },
  {
   "cell_type": "code",
   "execution_count": 6,
   "id": "318723d9-ffd1-4b53-97b3-ee68d3c6add8",
   "metadata": {},
   "outputs": [
    {
     "data": {
      "text/plain": [
       "(20, 10)"
      ]
     },
     "execution_count": 6,
     "metadata": {},
     "output_type": "execute_result"
    }
   ],
   "source": [
    "distance_matrix = distance_matrix.iloc[75:95,75:85]\n",
    "distance_matrix.shape"
   ]
  },
  {
   "cell_type": "code",
   "execution_count": 7,
   "id": "5890910b-1489-45ac-a31a-a1512308adf8",
   "metadata": {},
   "outputs": [],
   "source": [
    "num_coordinates2 = len(df)\n",
    "distance_matrix2 = pd.DataFrame(index=range(num_coordinates2), columns=range(1))\n",
    "\n",
    "# Populate the distance matrix\n",
    "for i in range(num_coordinates):\n",
    "        coord1 = (df['Latitude.1'][i], df['Longitude.1'][i])\n",
    "        coord2 = (35.792790,-78.641840)\n",
    "        distance_matrix2.at[i, 0] = haversine_distance(coord1, coord2)"
   ]
  },
  {
   "cell_type": "code",
   "execution_count": 8,
   "id": "92837294-3c33-474e-bf1e-72664a9adfa1",
   "metadata": {},
   "outputs": [
    {
     "data": {
      "text/html": [
       "<div>\n",
       "<style scoped>\n",
       "    .dataframe tbody tr th:only-of-type {\n",
       "        vertical-align: middle;\n",
       "    }\n",
       "\n",
       "    .dataframe tbody tr th {\n",
       "        vertical-align: top;\n",
       "    }\n",
       "\n",
       "    .dataframe thead th {\n",
       "        text-align: right;\n",
       "    }\n",
       "</style>\n",
       "<table border=\"1\" class=\"dataframe\">\n",
       "  <thead>\n",
       "    <tr style=\"text-align: right;\">\n",
       "      <th></th>\n",
       "      <th>0</th>\n",
       "    </tr>\n",
       "  </thead>\n",
       "  <tbody>\n",
       "    <tr>\n",
       "      <th>0</th>\n",
       "      <td>0.846639</td>\n",
       "    </tr>\n",
       "    <tr>\n",
       "      <th>1</th>\n",
       "      <td>0.386812</td>\n",
       "    </tr>\n",
       "    <tr>\n",
       "      <th>2</th>\n",
       "      <td>0.417639</td>\n",
       "    </tr>\n",
       "    <tr>\n",
       "      <th>3</th>\n",
       "      <td>1.245106</td>\n",
       "    </tr>\n",
       "    <tr>\n",
       "      <th>4</th>\n",
       "      <td>1.28549</td>\n",
       "    </tr>\n",
       "    <tr>\n",
       "      <th>...</th>\n",
       "      <td>...</td>\n",
       "    </tr>\n",
       "    <tr>\n",
       "      <th>128</th>\n",
       "      <td>4.72207</td>\n",
       "    </tr>\n",
       "    <tr>\n",
       "      <th>129</th>\n",
       "      <td>8.601968</td>\n",
       "    </tr>\n",
       "    <tr>\n",
       "      <th>130</th>\n",
       "      <td>0.553046</td>\n",
       "    </tr>\n",
       "    <tr>\n",
       "      <th>131</th>\n",
       "      <td>7.598565</td>\n",
       "    </tr>\n",
       "    <tr>\n",
       "      <th>132</th>\n",
       "      <td>1.647067</td>\n",
       "    </tr>\n",
       "  </tbody>\n",
       "</table>\n",
       "<p>133 rows × 1 columns</p>\n",
       "</div>"
      ],
      "text/plain": [
       "            0\n",
       "0    0.846639\n",
       "1    0.386812\n",
       "2    0.417639\n",
       "3    1.245106\n",
       "4     1.28549\n",
       "..        ...\n",
       "128   4.72207\n",
       "129  8.601968\n",
       "130  0.553046\n",
       "131  7.598565\n",
       "132  1.647067\n",
       "\n",
       "[133 rows x 1 columns]"
      ]
     },
     "execution_count": 8,
     "metadata": {},
     "output_type": "execute_result"
    }
   ],
   "source": [
    " distance_matrix2"
   ]
  },
  {
   "cell_type": "code",
   "execution_count": 9,
   "id": "24386a2e-c627-412d-8760-678a5b59ef2a",
   "metadata": {},
   "outputs": [],
   "source": [
    "#Popup market limit\n",
    "B= 10\n",
    "Kit = 1600\n",
    "Qit = 1600\n",
    "k = .1\n",
    "#to array\n",
    "dij = distance_matrix.to_numpy();\n",
    "C = distance_matrix2.to_numpy();\n",
    "pit = np.zeros((dij.shape[0],7))\n",
    "M = 10000000\n",
    "dij.shape\n",
    "\n",
    "C = np.ravel(C)"
   ]
  },
  {
   "cell_type": "code",
   "execution_count": 12,
   "id": "cb461920-35ae-40a7-9f55-204c8371056f",
   "metadata": {},
   "outputs": [
    {
     "data": {
      "text/plain": [
       "1.7600318297712358"
      ]
     },
     "execution_count": 12,
     "metadata": {},
     "output_type": "execute_result"
    }
   ],
   "source": [
    "C = C[]"
   ]
  },
  {
   "cell_type": "code",
   "execution_count": 13,
   "id": "f86dd96b-5896-4aa6-8235-96c5f4c5d699",
   "metadata": {},
   "outputs": [],
   "source": [
    "demand = df['Demand']"
   ]
  },
  {
   "cell_type": "code",
   "execution_count": 14,
   "id": "739fe382-6de4-4262-932c-69fa63a0c16c",
   "metadata": {},
   "outputs": [
    {
     "data": {
      "text/plain": [
       "(133,)"
      ]
     },
     "execution_count": 14,
     "metadata": {},
     "output_type": "execute_result"
    }
   ],
   "source": [
    "demand.shape"
   ]
  },
  {
   "cell_type": "code",
   "execution_count": 15,
   "id": "abeaa598-578e-40f4-afd4-2325f203eb75",
   "metadata": {},
   "outputs": [],
   "source": [
    "demand = demand[:88]"
   ]
  },
  {
   "cell_type": "code",
   "execution_count": 19,
   "id": "6e6811b6-d85e-4063-841e-ea2edb4feb88",
   "metadata": {},
   "outputs": [
    {
     "data": {
      "text/plain": [
       "(88,)"
      ]
     },
     "execution_count": 19,
     "metadata": {},
     "output_type": "execute_result"
    }
   ],
   "source": [
    "demand.shape"
   ]
  },
  {
   "cell_type": "code",
   "execution_count": 20,
   "id": "f56d028c-ff5f-40fa-b360-4803236fce14",
   "metadata": {},
   "outputs": [],
   "source": [
    "Dj = demand.to_numpy()"
   ]
  },
  {
   "cell_type": "code",
   "execution_count": 21,
   "id": "fffc536e-ad18-44bd-ad63-5e2113b00b09",
   "metadata": {},
   "outputs": [
    {
     "data": {
      "text/plain": [
       "(88,)"
      ]
     },
     "execution_count": 21,
     "metadata": {},
     "output_type": "execute_result"
    }
   ],
   "source": [
    "Dj.shape"
   ]
  },
  {
   "cell_type": "code",
   "execution_count": 22,
   "id": "186efc0c-eb9e-463f-a1f8-a67f88f4f865",
   "metadata": {},
   "outputs": [],
   "source": [
    "for i in range(len(pit)):\n",
    "    # For each row, randomly assign 0 or 1 for columns where i is in the range [0, 72]\n",
    "    for j in range(len(pit[i])):\n",
    "        if i >= 88:\n",
    "            pit[i, j] = np.random.randint(0, 2)\n"
   ]
  },
  {
   "cell_type": "code",
   "execution_count": 23,
   "id": "2b7ee4db-5634-4b0d-a59f-5345364db058",
   "metadata": {},
   "outputs": [
    {
     "data": {
      "text/plain": [
       "(133, 7)"
      ]
     },
     "execution_count": 23,
     "metadata": {},
     "output_type": "execute_result"
    }
   ],
   "source": [
    "# Set print options to display the entire array\n",
    "np.set_printoptions(threshold=np.inf)\n",
    "pit.shape"
   ]
  },
  {
   "cell_type": "code",
   "execution_count": 33,
   "id": "70b78cc4-e169-4db7-a8c4-2d775bc0a7f8",
   "metadata": {},
   "outputs": [],
   "source": [
    "#Set definition\n",
    "i = dij.shape[0]                        #Number of potentital locations\n",
    "j = dij.shape[1]                        #Number of demand nodes\n",
    "\n",
    "I=[i for i in range(0,i)];\n",
    "J=[j for j in range(0,j)];\n",
    "T = [t for t in range(0,pit.shape[1])];"
   ]
  },
  {
   "cell_type": "code",
   "execution_count": 34,
   "id": "8279a25a-cfc2-4b5a-86c4-d6864abd800c",
   "metadata": {},
   "outputs": [],
   "source": [
    "#Model definition\n",
    "mdl=Model('popup')"
   ]
  },
  {
   "cell_type": "code",
   "execution_count": 35,
   "id": "66addb0f-6a11-4d6b-a040-aa2770321377",
   "metadata": {},
   "outputs": [],
   "source": [
    "JT=[(j,t) for j in J for t in T]\n",
    "IJT = [(i,j,t) for i in I for j in J for t in T]\n",
    "IT = [(i,t) for i in I for t in T]"
   ]
  },
  {
   "cell_type": "code",
   "execution_count": 36,
   "id": "84bac497-c33e-4ac7-bf39-f42b964c0786",
   "metadata": {},
   "outputs": [],
   "source": [
    "#Decision Variables\n",
    "x = mdl.addVars(IT, vtype=GRB.BINARY)      \n",
    "y = mdl.addVars(IJT, vtype=GRB.BINARY) \n",
    "v = mdl.addVars(IJT, vtype=GRB.BINARY) \n",
    "z = mdl.addVars(IJT, vtype=GRB.CONTINUOUS) \n",
    "w = mdl.addVars(IJT, vtype=GRB.CONTINUOUS) "
   ]
  },
  {
   "cell_type": "code",
   "execution_count": 38,
   "id": "46b42f64-9326-47ff-bec4-c8307f22b067",
   "metadata": {},
   "outputs": [],
   "source": [
    "#Objective\n",
    "obj1 = sum((dij[i, j] * (y[i, j, t] + v[i, j, t])) for i in I for j in J for t in T)\n",
    "obj2 = sum((C[i] * x[i,t]) for i in I for t in T)\n",
    "obj3 = sum((Dj[j] - (w[i,j,t]+z[i,j,t])) for i in I for j in J for t in T)\n",
    "\n",
    "mdl.setObjective( obj1/53 + obj2/16 + obj3/4809, GRB.MINIMIZE) "
   ]
  },
  {
   "cell_type": "code",
   "execution_count": 44,
   "id": "d35d4c9b-0d7e-4922-a4b1-4db76ddda138",
   "metadata": {},
   "outputs": [],
   "source": [
    "#constatint\n",
    "# popup market limit for a period t \n",
    "mdl.addConstrs((quicksum(x[i,t] for i in I) <= B) for t in T)\n",
    "\n",
    "# pop-up market at i location at period t has to be open, if any of the j location is to serve from i\n",
    "mdl.addConstrs((quicksum(y[i,j,t] for j in J) <= M* x[i,t]) for i in I for t in T)\n",
    "mdl.addConstrs((quicksum(v[i,j,t] for j in J) <= M* pit[i,t]) for i in I for t in T)\n",
    "\n",
    "\n",
    "mdl.addConstrs((quicksum((y[i,j,t] + v[i,j,t]) for i in I) >= 1) for j in J for t in T)\n",
    "\n",
    "mdl.addConstrs((quicksum(z[i,j,t] for j in J) <= Qit) for i in I for t in T)\n",
    "mdl.addConstrs((quicksum(w[i,j,t] for j in J) <= Qit) for i in I for t in T)\n",
    "\n",
    "\n",
    "#Deamnd \n",
    "\n",
    "mdl.addConstrs( z[i,j,t] <= Dj[j]* y[i,j,t] for i in I for j in J for t in T)\n",
    "mdl.addConstrs( w[i,j,t] <= Dj[j]* v[i,j,t] for i in I for j in J for t in T)\n",
    "mdl.addConstrs( z[i,j,t] + w[i,j,t] <= Dj[j] for i in I for j in J for t in T)\n",
    "\n",
    "for j in J:\n",
    "    for j_prime in J:\n",
    "        if j != j_prime:\n",
    "            numerator_sum = gp.quicksum((dij[i,j] * (y[i, j, t] + v[i, j, t])) - (dij[i,j_prime] * (y[i, j_prime, t] + v[i, j_prime, t]))for i in I for t in T)\n",
    "            denominator_sum = gp.quicksum(dij[i,k] * (y[i, k, t] + v[i, k, t])for i in I for k in J for t in T)\n",
    "            mdl.addConstr(numerator_sum <= .2*denominator_sum)\n",
    "            mdl.addConstr(numerator_sum >= -.2*denominator_sum)\n",
    "\n",
    "#mdl.addConstrs( (quicksum(z[i,j,t] + w[i,j,t] for i in I) * quicksum(Dj[m] for m in J) - Dj[j] * quicksum(z[i,m,t] + w[i,m,t] for i in I for m in J) <= k * quicksum(z[i,m,t] + w[i,m,t] for i in I for m in J) * quicksum(Dj[m] for m in J)) for j in J for t in T )\n",
    "#mdl.addConstrs( (quicksum(z[i,j,t] + w[i,j,t] for i in I) * quicksum(Dj[m] for m in J) - Dj[j] * quicksum(z[i,m,t] + w[i,m,t] for i in I for m in J) >= -k * quicksum(z[i,m,t] + w[i,m,t] for i in I for m in J) * quicksum(Dj[m] for m in J)) for j in J for t in T )\n",
    "\n"
   ]
  },
  {
   "cell_type": "code",
   "execution_count": 1,
   "id": "7a876fcc-99e0-4d12-be49-1a15f0c275c4",
   "metadata": {
    "scrolled": true
   },
   "outputs": [
    {
     "ename": "NameError",
     "evalue": "name 'mdl' is not defined",
     "output_type": "error",
     "traceback": [
      "\u001b[0;31m---------------------------------------------------------------------------\u001b[0m",
      "\u001b[0;31mNameError\u001b[0m                                 Traceback (most recent call last)",
      "Cell \u001b[0;32mIn[1], line 2\u001b[0m\n\u001b[1;32m      1\u001b[0m \u001b[38;5;66;03m#Solve\u001b[39;00m\n\u001b[0;32m----> 2\u001b[0m \u001b[43mmdl\u001b[49m\u001b[38;5;241m.\u001b[39moptimize()\n",
      "\u001b[0;31mNameError\u001b[0m: name 'mdl' is not defined"
     ]
    }
   ],
   "source": [
    "#Solve\n",
    "mdl.optimize()"
   ]
  },
  {
   "cell_type": "code",
   "execution_count": 63,
   "id": "27b41acf-528f-4ad7-9775-a1b72c1d8e21",
   "metadata": {},
   "outputs": [
    {
     "name": "stdout",
     "output_type": "stream",
     "text": [
      "12 = 1.0\n",
      "17 = 1.0\n",
      "28 = 1.0\n",
      "33 = 1.0\n",
      "39 = 1.0\n",
      "56 = 1.0\n",
      "70 = 1.0\n",
      "79 = 1.0\n",
      "81 = 1.0\n",
      "117 = 1.0\n"
     ]
    }
   ],
   "source": [
    "xobj = np.zeros((168))\n",
    "for i in range (0,168):\n",
    "    if x[i,0].x == 1:\n",
    "        print(f\"{i+1} = {x[i,0].x}\")"
   ]
  },
  {
   "cell_type": "code",
   "execution_count": 65,
   "id": "bc7c9d6f-f5a3-4135-9f38-653339341cbe",
   "metadata": {},
   "outputs": [],
   "source": [
    "for i in range (0,168):\n",
    "    xobj[i]= x[i,0].x"
   ]
  },
  {
   "cell_type": "code",
   "execution_count": 68,
   "id": "e04d5d67-6f57-411b-86fe-1b8e7e9a3941",
   "metadata": {},
   "outputs": [],
   "source": [
    "xobj\n",
    "df = pd.DataFrame({'xobj': xobj})\n",
    "df.to_excel('xobj.xlsx')"
   ]
  },
  {
   "cell_type": "code",
   "execution_count": 71,
   "id": "3f2c2ebc-57dd-4998-9cb1-0c9744e276de",
   "metadata": {},
   "outputs": [],
   "source": [
    "yobj = np.zeros((168,123))\n",
    "for i in range (0,168):\n",
    "    for j in range(0,122):\n",
    "        yobj[i,j]= y[i,j,0].x \n",
    "df = pd.DataFrame(yobj)\n",
    "df.to_excel('yobj.xlsx')          "
   ]
  },
  {
   "cell_type": "code",
   "execution_count": 72,
   "id": "426065cb-4f28-4ad4-9af6-5fbb107af8e4",
   "metadata": {},
   "outputs": [],
   "source": [
    "vobj = np.zeros((168,123))\n",
    "for i in range (0,168):\n",
    "    for j in range(0,122):\n",
    "        vobj[i,j]= v[i,j,0].x \n",
    "df = pd.DataFrame(vobj)\n",
    "df.to_excel('vobj.xlsx')   "
   ]
  },
  {
   "cell_type": "code",
   "execution_count": 91,
   "id": "8d440cfb-1ed8-498a-bc73-1167481ff40a",
   "metadata": {},
   "outputs": [
    {
     "data": {
      "text/html": [
       "<div>\n",
       "<style scoped>\n",
       "    .dataframe tbody tr th:only-of-type {\n",
       "        vertical-align: middle;\n",
       "    }\n",
       "\n",
       "    .dataframe tbody tr th {\n",
       "        vertical-align: top;\n",
       "    }\n",
       "\n",
       "    .dataframe thead th {\n",
       "        text-align: right;\n",
       "    }\n",
       "</style>\n",
       "<table border=\"1\" class=\"dataframe\">\n",
       "  <thead>\n",
       "    <tr style=\"text-align: right;\">\n",
       "      <th></th>\n",
       "      <th>Name</th>\n",
       "      <th>Latitude.1</th>\n",
       "      <th>Longitude.1</th>\n",
       "      <th>Unnamed: 3</th>\n",
       "    </tr>\n",
       "  </thead>\n",
       "  <tbody>\n",
       "    <tr>\n",
       "      <th>0</th>\n",
       "      <td>Census Tract 501</td>\n",
       "      <td>35.780687</td>\n",
       "      <td>-78.639292</td>\n",
       "      <td>0</td>\n",
       "    </tr>\n",
       "    <tr>\n",
       "      <th>1</th>\n",
       "      <td>Census Tract 503</td>\n",
       "      <td>35.790588</td>\n",
       "      <td>-78.648173</td>\n",
       "      <td>0</td>\n",
       "    </tr>\n",
       "    <tr>\n",
       "      <th>2</th>\n",
       "      <td>Census Tract 504</td>\n",
       "      <td>35.795937</td>\n",
       "      <td>-78.635487</td>\n",
       "      <td>0</td>\n",
       "    </tr>\n",
       "    <tr>\n",
       "      <th>3</th>\n",
       "      <td>Census Tract 505</td>\n",
       "      <td>35.797262</td>\n",
       "      <td>-78.620363</td>\n",
       "      <td>0</td>\n",
       "    </tr>\n",
       "    <tr>\n",
       "      <th>4</th>\n",
       "      <td>Census Tract 506</td>\n",
       "      <td>35.784987</td>\n",
       "      <td>-78.621056</td>\n",
       "      <td>0</td>\n",
       "    </tr>\n",
       "    <tr>\n",
       "      <th>...</th>\n",
       "      <td>...</td>\n",
       "      <td>...</td>\n",
       "      <td>...</td>\n",
       "      <td>...</td>\n",
       "    </tr>\n",
       "    <tr>\n",
       "      <th>163</th>\n",
       "      <td>Iglesia Tabernaculo De Restauracion</td>\n",
       "      <td>35.744815</td>\n",
       "      <td>-78.581860</td>\n",
       "      <td>0</td>\n",
       "    </tr>\n",
       "    <tr>\n",
       "      <th>164</th>\n",
       "      <td>Springfield Baptist Church</td>\n",
       "      <td>35.697632</td>\n",
       "      <td>-78.542853</td>\n",
       "      <td>0</td>\n",
       "    </tr>\n",
       "    <tr>\n",
       "      <th>165</th>\n",
       "      <td>Open Table</td>\n",
       "      <td>35.790954</td>\n",
       "      <td>-78.632256</td>\n",
       "      <td>0</td>\n",
       "    </tr>\n",
       "    <tr>\n",
       "      <th>166</th>\n",
       "      <td>Celebration Church</td>\n",
       "      <td>35.866924</td>\n",
       "      <td>-78.541695</td>\n",
       "      <td>0</td>\n",
       "    </tr>\n",
       "    <tr>\n",
       "      <th>167</th>\n",
       "      <td>Lincoln Park Holiness Church</td>\n",
       "      <td>35.780172</td>\n",
       "      <td>-78.616944</td>\n",
       "      <td>0</td>\n",
       "    </tr>\n",
       "  </tbody>\n",
       "</table>\n",
       "<p>168 rows × 4 columns</p>\n",
       "</div>"
      ],
      "text/plain": [
       "                                    Name  Latitude.1  Longitude.1  Unnamed: 3\n",
       "0                       Census Tract 501   35.780687   -78.639292           0\n",
       "1                       Census Tract 503   35.790588   -78.648173           0\n",
       "2                       Census Tract 504   35.795937   -78.635487           0\n",
       "3                       Census Tract 505   35.797262   -78.620363           0\n",
       "4                       Census Tract 506   35.784987   -78.621056           0\n",
       "..                                   ...         ...          ...         ...\n",
       "163  Iglesia Tabernaculo De Restauracion   35.744815   -78.581860           0\n",
       "164           Springfield Baptist Church   35.697632   -78.542853           0\n",
       "165                           Open Table   35.790954   -78.632256           0\n",
       "166                   Celebration Church   35.866924   -78.541695           0\n",
       "167         Lincoln Park Holiness Church   35.780172   -78.616944           0\n",
       "\n",
       "[168 rows x 4 columns]"
      ]
     },
     "execution_count": 91,
     "metadata": {},
     "output_type": "execute_result"
    }
   ],
   "source": [
    "net = pd.read_excel('modeldata.xlsx',sheet_name='t=1')\n",
    "net"
   ]
  },
  {
   "cell_type": "code",
   "execution_count": 108,
   "id": "3f127aca-ebc3-4dcd-aa17-9fee3d349e21",
   "metadata": {},
   "outputs": [],
   "source": [
    "import pandas as pd\n",
    "import networkx as nx\n",
    "# Create a graph\n",
    "G = nx.Graph()\n",
    "\n",
    "# Add nodes\n",
    "for idx, row in net.iterrows():\n",
    "    G.add_node(row['Name'], pos=(row['Longitude.1'], row['Latitude.1']))"
   ]
  },
  {
   "cell_type": "code",
   "execution_count": 127,
   "id": "f1b7dc43-5328-4b9c-bfe4-24f0b9657a5c",
   "metadata": {},
   "outputs": [
    {
     "data": {
      "image/png": "[encoded data removed]",
      "text/plain": [
       "<Figure size 640x480 with 1 Axes>"
      ]
     },
     "metadata": {},
     "output_type": "display_data"
    }
   ],
   "source": [
    "# Iterate through DataFrame\n",
    "for index, row in net.iterrows():\n",
    "    name = row['Name']\n",
    "    lat = row['Latitude.1']\n",
    "    lon = row['Longitude.1']\n",
    "    \n",
    "    if name.startswith('Pop'):\n",
    "        node_color = 'red'\n",
    "    elif name.startswith('Cen'):\n",
    "        node_color = 'green'\n",
    "    else:\n",
    "        node_color = 'yellow'\n",
    "        \n",
    "    G.add_node(name, pos=(lon, lat), color=node_color)\n",
    "\n",
    "\n",
    "# Draw nodes\n",
    "pos = nx.get_node_attributes(G, 'pos')\n",
    "colors = nx.get_node_attributes(G, 'color').values()\n",
    "nx.draw(G, pos, node_color=list(colors), with_labels=False, node_size=10)\n",
    "\n",
    "# Show plot|\n",
    "plt.show()"
   ]
  },
  {
   "cell_type": "code",
   "execution_count": 138,
   "id": "06354ffb-2716-451f-8d63-1639e05485a3",
   "metadata": {},
   "outputs": [],
   "source": [
    "edge = pd.read_excel('modeldata.xlsx',sheet_name='edge')\n"
   ]
  },
  {
   "cell_type": "code",
   "execution_count": 139,
   "id": "22206f16-c18b-4ec1-b760-5239513d8fe7",
   "metadata": {},
   "outputs": [
    {
     "data": {
      "text/html": [
       "<div>\n",
       "<style scoped>\n",
       "    .dataframe tbody tr th:only-of-type {\n",
       "        vertical-align: middle;\n",
       "    }\n",
       "\n",
       "    .dataframe tbody tr th {\n",
       "        vertical-align: top;\n",
       "    }\n",
       "\n",
       "    .dataframe thead th {\n",
       "        text-align: right;\n",
       "    }\n",
       "</style>\n",
       "<table border=\"1\" class=\"dataframe\">\n",
       "  <thead>\n",
       "    <tr style=\"text-align: right;\">\n",
       "      <th></th>\n",
       "      <th>Source</th>\n",
       "      <th>Target</th>\n",
       "    </tr>\n",
       "  </thead>\n",
       "  <tbody>\n",
       "    <tr>\n",
       "      <th>0</th>\n",
       "      <td>Pop1</td>\n",
       "      <td>Census Tract 503</td>\n",
       "    </tr>\n",
       "    <tr>\n",
       "      <th>1</th>\n",
       "      <td>Pop1</td>\n",
       "      <td>Census Tract 511.02</td>\n",
       "    </tr>\n",
       "    <tr>\n",
       "      <th>2</th>\n",
       "      <td>Pop1</td>\n",
       "      <td>Pop1</td>\n",
       "    </tr>\n",
       "    <tr>\n",
       "      <th>3</th>\n",
       "      <td>Pop1</td>\n",
       "      <td>Census Tract 514</td>\n",
       "    </tr>\n",
       "    <tr>\n",
       "      <th>4</th>\n",
       "      <td>Pop2</td>\n",
       "      <td>Census Tract 515.01</td>\n",
       "    </tr>\n",
       "    <tr>\n",
       "      <th>...</th>\n",
       "      <td>...</td>\n",
       "      <td>...</td>\n",
       "    </tr>\n",
       "    <tr>\n",
       "      <th>117</th>\n",
       "      <td>Springfield Baptist Church</td>\n",
       "      <td>Census Tract 528.07</td>\n",
       "    </tr>\n",
       "    <tr>\n",
       "      <th>118</th>\n",
       "      <td>Springfield Baptist Church</td>\n",
       "      <td>Census Tract 528.09</td>\n",
       "    </tr>\n",
       "    <tr>\n",
       "      <th>119</th>\n",
       "      <td>Open Table</td>\n",
       "      <td>Census Tract 505</td>\n",
       "    </tr>\n",
       "    <tr>\n",
       "      <th>120</th>\n",
       "      <td>Celebration Church</td>\n",
       "      <td>Census Tract 540.23</td>\n",
       "    </tr>\n",
       "    <tr>\n",
       "      <th>121</th>\n",
       "      <td>Celebration Church</td>\n",
       "      <td>Census Tract 541.16</td>\n",
       "    </tr>\n",
       "  </tbody>\n",
       "</table>\n",
       "<p>122 rows × 2 columns</p>\n",
       "</div>"
      ],
      "text/plain": [
       "                         Source               Target\n",
       "0                          Pop1     Census Tract 503\n",
       "1                          Pop1  Census Tract 511.02\n",
       "2                          Pop1                 Pop1\n",
       "3                          Pop1     Census Tract 514\n",
       "4                          Pop2  Census Tract 515.01\n",
       "..                          ...                  ...\n",
       "117  Springfield Baptist Church  Census Tract 528.07\n",
       "118  Springfield Baptist Church  Census Tract 528.09\n",
       "119                  Open Table     Census Tract 505\n",
       "120          Celebration Church  Census Tract 540.23\n",
       "121          Celebration Church  Census Tract 541.16\n",
       "\n",
       "[122 rows x 2 columns]"
      ]
     },
     "execution_count": 139,
     "metadata": {},
     "output_type": "execute_result"
    }
   ],
   "source": [
    "edge"
   ]
  },
  {
   "cell_type": "code",
   "execution_count": 141,
   "id": "44779801-81a6-4300-9380-94007d5affcb",
   "metadata": {
    "scrolled": true
   },
   "outputs": [
    {
     "data": {
      "image/png": "[encoded data removed]",
      "text/plain": [
       "<Figure size 640x480 with 1 Axes>"
      ]
     },
     "metadata": {},
     "output_type": "display_data"
    },
    {
     "data": {
      "text/plain": [
       "<Figure size 640x480 with 0 Axes>"
      ]
     },
     "metadata": {},
     "output_type": "display_data"
    }
   ],
   "source": [
    "for _, row in edge.iterrows():\n",
    "    source = row['Source']\n",
    "    target = row['Target']\n",
    "    G.add_edge(source, target)\n",
    "\n",
    "# Draw nodes\n",
    "pos = nx.get_node_attributes(G, 'pos')\n",
    "colors = nx.get_node_attributes(G, 'color').values()\n",
    "nx.draw(G, pos, node_color=list(colors), with_labels=False, node_size=20)\n",
    "\n",
    "# Show plot\n",
    "plt.show()\n",
    "plt.savefig('graph_image2.png')"
   ]
  },
  {
   "cell_type": "code",
   "execution_count": 136,
   "id": "46cb24d8-7e49-449f-9ce0-2428dc54a9ae",
   "metadata": {},
   "outputs": [
    {
     "data": {
      "text/plain": [
       "<Figure size 640x480 with 0 Axes>"
      ]
     },
     "metadata": {},
     "output_type": "display_data"
    }
   ],
   "source": [
    "plt.savefig('graph_image.png')"
   ]
  },
  {
   "cell_type": "code",
   "execution_count": null,
   "id": "d51cb6f2-bc16-45d7-b740-70ab82083950",
   "metadata": {},
   "outputs": [],
   "source": []
  }
 ],
 "metadata": {
  "kernelspec": {
   "display_name": "Python 3 (ipykernel)",
   "language": "python",
   "name": "python3"
  },
  "language_info": {
   "codemirror_mode": {
    "name": "ipython",
    "version": 3
   },
   "file_extension": ".py",
   "mimetype": "text/x-python",
   "name": "python",
   "nbconvert_exporter": "python",
   "pygments_lexer": "ipython3",
   "version": "3.11.6"
  }
 },
 "nbformat": 4,
 "nbformat_minor": 5
}
